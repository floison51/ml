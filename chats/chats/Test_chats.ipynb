{
 "cells": [
  {
   "cell_type": "markdown",
   "metadata": {},
   "source": [
    "Teste la reconnaissance de chats"
   ]
  },
  {
   "cell_type": "markdown",
   "metadata": {},
   "source": [
    "Import needed modules\n"
   ]
  },
  {
   "cell_type": "code",
   "execution_count": 1,
   "metadata": {},
   "outputs": [
    {
     "name": "stderr",
     "output_type": "stream",
     "text": [
      "D:\\appli\\python\\anaconda3\\envs\\ml\\lib\\site-packages\\h5py\\__init__.py:36: FutureWarning: Conversion of the second argument of issubdtype from `float` to `np.floating` is deprecated. In future, it will be treated as `np.float64 == np.dtype(float).type`.\n",
      "  from ._conv import register_converters as _register_converters\n"
     ]
    }
   ],
   "source": [
    "import numpy as np\n",
    "\n",
    "import chats_logreg\n",
    "import chats_tf\n",
    "import tensorflow as tf\n"
   ]
  },
  {
   "cell_type": "markdown",
   "metadata": {},
   "source": [
    "Test de la propagation-avant pour la regression logistique:\n",
    "\n",
    "1) Test de la regression logistique \"à la main\""
   ]
  },
  {
   "cell_type": "code",
   "execution_count": 2,
   "metadata": {},
   "outputs": [
    {
     "name": "stdout",
     "output_type": "stream",
     "text": [
      "A: [[0.5 0.5]]\n",
      "A: [0.88079708 0.549834  ]\n",
      "Cost: 2.1876003405650217\n"
     ]
    }
   ],
   "source": [
    "# Initialise paramters dictionary W\n",
    "parameters = chats_logreg.initialize_parameters( n_x=3 )\n",
    "\n",
    "# Test with small input matrix\n",
    "X = np.array( [ \n",
    "                 [ 0.1, 0.01 ],\n",
    "                 [ 0.2, 0.02 ],\n",
    "                 [ 0.3, 0.03 ],\n",
    "            ], dtype=np.float32 )\n",
    "\n",
    "## number of samples (columns)\n",
    "m = X.shape[ 1 ]\n",
    "## number of lines\n",
    "n_x = X.shape[ 0 ]\n",
    "\n",
    "## First test with W=0\n",
    "A = chats_logreg.forward_propagation( X, parameters )\n",
    "print( \"A:\", A )\n",
    "\n",
    "## Some values to W\n",
    "parameters[ \"W\" ] = np.array( [ 2, 3, 4 ] )\n",
    "A = chats_logreg.forward_propagation( X, parameters )\n",
    "print( \"A:\", A )\n",
    "\n",
    "# Get cost\n",
    "Y = np.array( [ \n",
    "                 [ 1 ],\n",
    "                 [ 0 ],\n",
    "                 [ 1 ],\n",
    "            ], dtype=np.float32 )\n",
    "\n",
    "cost = chats_logreg.compute_cost( A, Y, WEIGHT=1, m = m )\n",
    "print( \"Cost:\", cost )"
   ]
  },
  {
   "cell_type": "markdown",
   "metadata": {},
   "source": [
    "Expected:\n",
    "<code>\n",
    "A: [[0.5 0.5]]\n",
    "A: [0.88079708 0.549834  ]\n",
    "Cost: 2.1876003405650217\n",
    "</code>"
   ]
  },
  {
   "cell_type": "markdown",
   "metadata": {},
   "source": [
    "2) Test de la régression logistrique TensorFlow"
   ]
  },
  {
   "cell_type": "code",
   "execution_count": 3,
   "metadata": {},
   "outputs": [
    {
     "name": "stdout",
     "output_type": "stream",
     "text": [
      "WARNING:tensorflow:From D:\\appli\\python\\anaconda3\\envs\\ml\\lib\\site-packages\\tensorflow\\contrib\\learn\\python\\learn\\datasets\\base.py:198: retry (from tensorflow.contrib.learn.python.learn.datasets.base) is deprecated and will be removed in a future version.\n",
      "Instructions for updating:\n",
      "Use the retry module or similar alternatives.\n"
     ]
    }
   ],
   "source": [
    "# Create TF variables place holders - do it once\n",
    "\n",
    "nbUnits = [ 1 ]\n",
    "\n",
    "X_pl, Y_pl, KEEP_PROB_pl = chats_tf.create_placeholders( n_x=n_x, n_y=1 )\n",
    "# Initialise parameters\n",
    "parameters_tf = chats_tf.initialize_parameters( nbUnits=nbUnits, n_x=n_x )\n"
   ]
  },
  {
   "cell_type": "code",
   "execution_count": 4,
   "metadata": {},
   "outputs": [
    {
     "name": "stdout",
     "output_type": "stream",
     "text": [
      "Cost tensor: Tensor(\"Mean_1:0\", shape=(), dtype=float32)\n"
     ]
    },
    {
     "ename": "FailedPreconditionError",
     "evalue": "Attempting to use uninitialized value W1\n\t [[Node: W1/read = Identity[T=DT_FLOAT, _class=[\"loc:@W1\"], _device=\"/job:localhost/replica:0/task:0/device:CPU:0\"](W1)]]\n\nCaused by op 'W1/read', defined at:\n  File \"D:\\appli\\python\\anaconda3\\envs\\ml\\lib\\runpy.py\", line 193, in _run_module_as_main\n    \"__main__\", mod_spec)\n  File \"D:\\appli\\python\\anaconda3\\envs\\ml\\lib\\runpy.py\", line 85, in _run_code\n    exec(code, run_globals)\n  File \"D:\\appli\\python\\anaconda3\\envs\\ml\\lib\\site-packages\\ipykernel_launcher.py\", line 16, in <module>\n    app.launch_new_instance()\n  File \"D:\\appli\\python\\anaconda3\\envs\\ml\\lib\\site-packages\\traitlets\\config\\application.py\", line 658, in launch_instance\n    app.start()\n  File \"D:\\appli\\python\\anaconda3\\envs\\ml\\lib\\site-packages\\ipykernel\\kernelapp.py\", line 486, in start\n    self.io_loop.start()\n  File \"D:\\appli\\python\\anaconda3\\envs\\ml\\lib\\site-packages\\tornado\\platform\\asyncio.py\", line 127, in start\n    self.asyncio_loop.run_forever()\n  File \"D:\\appli\\python\\anaconda3\\envs\\ml\\lib\\asyncio\\base_events.py\", line 422, in run_forever\n    self._run_once()\n  File \"D:\\appli\\python\\anaconda3\\envs\\ml\\lib\\asyncio\\base_events.py\", line 1432, in _run_once\n    handle._run()\n  File \"D:\\appli\\python\\anaconda3\\envs\\ml\\lib\\asyncio\\events.py\", line 145, in _run\n    self._callback(*self._args)\n  File \"D:\\appli\\python\\anaconda3\\envs\\ml\\lib\\site-packages\\tornado\\ioloop.py\", line 759, in _run_callback\n    ret = callback()\n  File \"D:\\appli\\python\\anaconda3\\envs\\ml\\lib\\site-packages\\tornado\\stack_context.py\", line 276, in null_wrapper\n    return fn(*args, **kwargs)\n  File \"D:\\appli\\python\\anaconda3\\envs\\ml\\lib\\site-packages\\zmq\\eventloop\\zmqstream.py\", line 536, in <lambda>\n    self.io_loop.add_callback(lambda : self._handle_events(self.socket, 0))\n  File \"D:\\appli\\python\\anaconda3\\envs\\ml\\lib\\site-packages\\zmq\\eventloop\\zmqstream.py\", line 450, in _handle_events\n    self._handle_recv()\n  File \"D:\\appli\\python\\anaconda3\\envs\\ml\\lib\\site-packages\\zmq\\eventloop\\zmqstream.py\", line 480, in _handle_recv\n    self._run_callback(callback, msg)\n  File \"D:\\appli\\python\\anaconda3\\envs\\ml\\lib\\site-packages\\zmq\\eventloop\\zmqstream.py\", line 432, in _run_callback\n    callback(*args, **kwargs)\n  File \"D:\\appli\\python\\anaconda3\\envs\\ml\\lib\\site-packages\\tornado\\stack_context.py\", line 276, in null_wrapper\n    return fn(*args, **kwargs)\n  File \"D:\\appli\\python\\anaconda3\\envs\\ml\\lib\\site-packages\\ipykernel\\kernelbase.py\", line 283, in dispatcher\n    return self.dispatch_shell(stream, msg)\n  File \"D:\\appli\\python\\anaconda3\\envs\\ml\\lib\\site-packages\\ipykernel\\kernelbase.py\", line 233, in dispatch_shell\n    handler(stream, idents, msg)\n  File \"D:\\appli\\python\\anaconda3\\envs\\ml\\lib\\site-packages\\ipykernel\\kernelbase.py\", line 399, in execute_request\n    user_expressions, allow_stdin)\n  File \"D:\\appli\\python\\anaconda3\\envs\\ml\\lib\\site-packages\\ipykernel\\ipkernel.py\", line 208, in do_execute\n    res = shell.run_cell(code, store_history=store_history, silent=silent)\n  File \"D:\\appli\\python\\anaconda3\\envs\\ml\\lib\\site-packages\\ipykernel\\zmqshell.py\", line 537, in run_cell\n    return super(ZMQInteractiveShell, self).run_cell(*args, **kwargs)\n  File \"D:\\appli\\python\\anaconda3\\envs\\ml\\lib\\site-packages\\IPython\\core\\interactiveshell.py\", line 2662, in run_cell\n    raw_cell, store_history, silent, shell_futures)\n  File \"D:\\appli\\python\\anaconda3\\envs\\ml\\lib\\site-packages\\IPython\\core\\interactiveshell.py\", line 2785, in _run_cell\n    interactivity=interactivity, compiler=compiler, result=result)\n  File \"D:\\appli\\python\\anaconda3\\envs\\ml\\lib\\site-packages\\IPython\\core\\interactiveshell.py\", line 2903, in run_ast_nodes\n    if self.run_code(code, result):\n  File \"D:\\appli\\python\\anaconda3\\envs\\ml\\lib\\site-packages\\IPython\\core\\interactiveshell.py\", line 2963, in run_code\n    exec(code_obj, self.user_global_ns, self.user_ns)\n  File \"<ipython-input-3-34e8c30d54bb>\", line 7, in <module>\n    parameters_tf = chats_tf.initialize_parameters( nbUnits=nbUnits, n_x=n_x )\n  File \"C:\\Users\\frup82455\\git\\ml\\chats\\chats\\chats_tf.py\", line 76, in initialize_parameters\n    W_cur = tf.get_variable( \"W\" + str( i + 1 ), [ nbUnits0[ i + 1 ], nbUnits0[ i ] ], initializer = tf.contrib.layers.xavier_initializer(seed = 1))\n  File \"D:\\appli\\python\\anaconda3\\envs\\ml\\lib\\site-packages\\tensorflow\\python\\ops\\variable_scope.py\", line 1297, in get_variable\n    constraint=constraint)\n  File \"D:\\appli\\python\\anaconda3\\envs\\ml\\lib\\site-packages\\tensorflow\\python\\ops\\variable_scope.py\", line 1093, in get_variable\n    constraint=constraint)\n  File \"D:\\appli\\python\\anaconda3\\envs\\ml\\lib\\site-packages\\tensorflow\\python\\ops\\variable_scope.py\", line 439, in get_variable\n    constraint=constraint)\n  File \"D:\\appli\\python\\anaconda3\\envs\\ml\\lib\\site-packages\\tensorflow\\python\\ops\\variable_scope.py\", line 408, in _true_getter\n    use_resource=use_resource, constraint=constraint)\n  File \"D:\\appli\\python\\anaconda3\\envs\\ml\\lib\\site-packages\\tensorflow\\python\\ops\\variable_scope.py\", line 800, in _get_single_variable\n    use_resource=use_resource)\n  File \"D:\\appli\\python\\anaconda3\\envs\\ml\\lib\\site-packages\\tensorflow\\python\\ops\\variable_scope.py\", line 2157, in variable\n    use_resource=use_resource)\n  File \"D:\\appli\\python\\anaconda3\\envs\\ml\\lib\\site-packages\\tensorflow\\python\\ops\\variable_scope.py\", line 2147, in <lambda>\n    previous_getter = lambda **kwargs: default_variable_creator(None, **kwargs)\n  File \"D:\\appli\\python\\anaconda3\\envs\\ml\\lib\\site-packages\\tensorflow\\python\\ops\\variable_scope.py\", line 2130, in default_variable_creator\n    constraint=constraint)\n  File \"D:\\appli\\python\\anaconda3\\envs\\ml\\lib\\site-packages\\tensorflow\\python\\ops\\variables.py\", line 235, in __init__\n    constraint=constraint)\n  File \"D:\\appli\\python\\anaconda3\\envs\\ml\\lib\\site-packages\\tensorflow\\python\\ops\\variables.py\", line 391, in _init_from_args\n    self._snapshot = array_ops.identity(self._variable, name=\"read\")\n  File \"D:\\appli\\python\\anaconda3\\envs\\ml\\lib\\site-packages\\tensorflow\\python\\ops\\array_ops.py\", line 142, in identity\n    return gen_array_ops.identity(input, name=name)\n  File \"D:\\appli\\python\\anaconda3\\envs\\ml\\lib\\site-packages\\tensorflow\\python\\ops\\gen_array_ops.py\", line 3052, in identity\n    \"Identity\", input=input, name=name)\n  File \"D:\\appli\\python\\anaconda3\\envs\\ml\\lib\\site-packages\\tensorflow\\python\\framework\\op_def_library.py\", line 787, in _apply_op_helper\n    op_def=op_def)\n  File \"D:\\appli\\python\\anaconda3\\envs\\ml\\lib\\site-packages\\tensorflow\\python\\framework\\ops.py\", line 3290, in create_op\n    op_def=op_def)\n  File \"D:\\appli\\python\\anaconda3\\envs\\ml\\lib\\site-packages\\tensorflow\\python\\framework\\ops.py\", line 1654, in __init__\n    self._traceback = self._graph._extract_stack()  # pylint: disable=protected-access\n\nFailedPreconditionError (see above for traceback): Attempting to use uninitialized value W1\n\t [[Node: W1/read = Identity[T=DT_FLOAT, _class=[\"loc:@W1\"], _device=\"/job:localhost/replica:0/task:0/device:CPU:0\"](W1)]]\n",
     "output_type": "error",
     "traceback": [
      "\u001b[1;31m---------------------------------------------------------------------------\u001b[0m",
      "\u001b[1;31mFailedPreconditionError\u001b[0m                   Traceback (most recent call last)",
      "\u001b[1;32mD:\\appli\\python\\anaconda3\\envs\\ml\\lib\\site-packages\\tensorflow\\python\\client\\session.py\u001b[0m in \u001b[0;36m_do_call\u001b[1;34m(self, fn, *args)\u001b[0m\n\u001b[0;32m   1326\u001b[0m     \u001b[1;32mtry\u001b[0m\u001b[1;33m:\u001b[0m\u001b[1;33m\u001b[0m\u001b[0m\n\u001b[1;32m-> 1327\u001b[1;33m       \u001b[1;32mreturn\u001b[0m \u001b[0mfn\u001b[0m\u001b[1;33m(\u001b[0m\u001b[1;33m*\u001b[0m\u001b[0margs\u001b[0m\u001b[1;33m)\u001b[0m\u001b[1;33m\u001b[0m\u001b[0m\n\u001b[0m\u001b[0;32m   1328\u001b[0m     \u001b[1;32mexcept\u001b[0m \u001b[0merrors\u001b[0m\u001b[1;33m.\u001b[0m\u001b[0mOpError\u001b[0m \u001b[1;32mas\u001b[0m \u001b[0me\u001b[0m\u001b[1;33m:\u001b[0m\u001b[1;33m\u001b[0m\u001b[0m\n",
      "\u001b[1;32mD:\\appli\\python\\anaconda3\\envs\\ml\\lib\\site-packages\\tensorflow\\python\\client\\session.py\u001b[0m in \u001b[0;36m_run_fn\u001b[1;34m(feed_dict, fetch_list, target_list, options, run_metadata)\u001b[0m\n\u001b[0;32m   1311\u001b[0m       return self._call_tf_sessionrun(\n\u001b[1;32m-> 1312\u001b[1;33m           options, feed_dict, fetch_list, target_list, run_metadata)\n\u001b[0m\u001b[0;32m   1313\u001b[0m \u001b[1;33m\u001b[0m\u001b[0m\n",
      "\u001b[1;32mD:\\appli\\python\\anaconda3\\envs\\ml\\lib\\site-packages\\tensorflow\\python\\client\\session.py\u001b[0m in \u001b[0;36m_call_tf_sessionrun\u001b[1;34m(self, options, feed_dict, fetch_list, target_list, run_metadata)\u001b[0m\n\u001b[0;32m   1419\u001b[0m             \u001b[0mself\u001b[0m\u001b[1;33m.\u001b[0m\u001b[0m_session\u001b[0m\u001b[1;33m,\u001b[0m \u001b[0moptions\u001b[0m\u001b[1;33m,\u001b[0m \u001b[0mfeed_dict\u001b[0m\u001b[1;33m,\u001b[0m \u001b[0mfetch_list\u001b[0m\u001b[1;33m,\u001b[0m \u001b[0mtarget_list\u001b[0m\u001b[1;33m,\u001b[0m\u001b[1;33m\u001b[0m\u001b[0m\n\u001b[1;32m-> 1420\u001b[1;33m             status, run_metadata)\n\u001b[0m\u001b[0;32m   1421\u001b[0m \u001b[1;33m\u001b[0m\u001b[0m\n",
      "\u001b[1;32mD:\\appli\\python\\anaconda3\\envs\\ml\\lib\\site-packages\\tensorflow\\python\\framework\\errors_impl.py\u001b[0m in \u001b[0;36m__exit__\u001b[1;34m(self, type_arg, value_arg, traceback_arg)\u001b[0m\n\u001b[0;32m    515\u001b[0m             \u001b[0mcompat\u001b[0m\u001b[1;33m.\u001b[0m\u001b[0mas_text\u001b[0m\u001b[1;33m(\u001b[0m\u001b[0mc_api\u001b[0m\u001b[1;33m.\u001b[0m\u001b[0mTF_Message\u001b[0m\u001b[1;33m(\u001b[0m\u001b[0mself\u001b[0m\u001b[1;33m.\u001b[0m\u001b[0mstatus\u001b[0m\u001b[1;33m.\u001b[0m\u001b[0mstatus\u001b[0m\u001b[1;33m)\u001b[0m\u001b[1;33m)\u001b[0m\u001b[1;33m,\u001b[0m\u001b[1;33m\u001b[0m\u001b[0m\n\u001b[1;32m--> 516\u001b[1;33m             c_api.TF_GetCode(self.status.status))\n\u001b[0m\u001b[0;32m    517\u001b[0m     \u001b[1;31m# Delete the underlying status object from memory otherwise it stays alive\u001b[0m\u001b[1;33m\u001b[0m\u001b[1;33m\u001b[0m\u001b[0m\n",
      "\u001b[1;31mFailedPreconditionError\u001b[0m: Attempting to use uninitialized value W1\n\t [[Node: W1/read = Identity[T=DT_FLOAT, _class=[\"loc:@W1\"], _device=\"/job:localhost/replica:0/task:0/device:CPU:0\"](W1)]]",
      "\nDuring handling of the above exception, another exception occurred:\n",
      "\u001b[1;31mFailedPreconditionError\u001b[0m                   Traceback (most recent call last)",
      "\u001b[1;32m<ipython-input-4-f2116dcd40e0>\u001b[0m in \u001b[0;36m<module>\u001b[1;34m()\u001b[0m\n\u001b[0;32m     10\u001b[0m \u001b[1;31m# Start the session to compute the tensorflow graph\u001b[0m\u001b[1;33m\u001b[0m\u001b[1;33m\u001b[0m\u001b[0m\n\u001b[0;32m     11\u001b[0m \u001b[1;32mwith\u001b[0m \u001b[0mtf\u001b[0m\u001b[1;33m.\u001b[0m\u001b[0mSession\u001b[0m\u001b[1;33m(\u001b[0m\u001b[1;33m)\u001b[0m \u001b[1;32mas\u001b[0m \u001b[0msess\u001b[0m\u001b[1;33m:\u001b[0m\u001b[1;33m\u001b[0m\u001b[0m\n\u001b[1;32m---> 12\u001b[1;33m     \u001b[0m_\u001b[0m \u001b[1;33m,\u001b[0m \u001b[0mcost\u001b[0m \u001b[1;33m=\u001b[0m \u001b[0msess\u001b[0m\u001b[1;33m.\u001b[0m\u001b[0mrun\u001b[0m\u001b[1;33m(\u001b[0m \u001b[1;33m[\u001b[0m\u001b[0mcost_tf\u001b[0m\u001b[1;33m]\u001b[0m\u001b[1;33m,\u001b[0m \u001b[0mfeed_dict\u001b[0m\u001b[1;33m=\u001b[0m\u001b[1;33m{\u001b[0m \u001b[0mX_pl\u001b[0m\u001b[1;33m:\u001b[0m \u001b[0mX\u001b[0m\u001b[1;33m,\u001b[0m \u001b[0mY_pl\u001b[0m\u001b[1;33m:\u001b[0m \u001b[0mY\u001b[0m\u001b[1;33m.\u001b[0m\u001b[0mT\u001b[0m\u001b[1;33m,\u001b[0m \u001b[0mKEEP_PROB_pl\u001b[0m\u001b[1;33m:\u001b[0m \u001b[1;36m1\u001b[0m \u001b[1;33m}\u001b[0m \u001b[1;33m)\u001b[0m\u001b[1;33m\u001b[0m\u001b[0m\n\u001b[0m\u001b[0;32m     13\u001b[0m \u001b[1;33m\u001b[0m\u001b[0m\n\u001b[0;32m     14\u001b[0m \u001b[0mprint\u001b[0m\u001b[1;33m(\u001b[0m \u001b[1;34m\"Cost:\"\u001b[0m\u001b[1;33m,\u001b[0m \u001b[0mcost\u001b[0m \u001b[1;33m)\u001b[0m\u001b[1;33m\u001b[0m\u001b[0m\n",
      "\u001b[1;32mD:\\appli\\python\\anaconda3\\envs\\ml\\lib\\site-packages\\tensorflow\\python\\client\\session.py\u001b[0m in \u001b[0;36mrun\u001b[1;34m(self, fetches, feed_dict, options, run_metadata)\u001b[0m\n\u001b[0;32m    903\u001b[0m     \u001b[1;32mtry\u001b[0m\u001b[1;33m:\u001b[0m\u001b[1;33m\u001b[0m\u001b[0m\n\u001b[0;32m    904\u001b[0m       result = self._run(None, fetches, feed_dict, options_ptr,\n\u001b[1;32m--> 905\u001b[1;33m                          run_metadata_ptr)\n\u001b[0m\u001b[0;32m    906\u001b[0m       \u001b[1;32mif\u001b[0m \u001b[0mrun_metadata\u001b[0m\u001b[1;33m:\u001b[0m\u001b[1;33m\u001b[0m\u001b[0m\n\u001b[0;32m    907\u001b[0m         \u001b[0mproto_data\u001b[0m \u001b[1;33m=\u001b[0m \u001b[0mtf_session\u001b[0m\u001b[1;33m.\u001b[0m\u001b[0mTF_GetBuffer\u001b[0m\u001b[1;33m(\u001b[0m\u001b[0mrun_metadata_ptr\u001b[0m\u001b[1;33m)\u001b[0m\u001b[1;33m\u001b[0m\u001b[0m\n",
      "\u001b[1;32mD:\\appli\\python\\anaconda3\\envs\\ml\\lib\\site-packages\\tensorflow\\python\\client\\session.py\u001b[0m in \u001b[0;36m_run\u001b[1;34m(self, handle, fetches, feed_dict, options, run_metadata)\u001b[0m\n\u001b[0;32m   1138\u001b[0m     \u001b[1;32mif\u001b[0m \u001b[0mfinal_fetches\u001b[0m \u001b[1;32mor\u001b[0m \u001b[0mfinal_targets\u001b[0m \u001b[1;32mor\u001b[0m \u001b[1;33m(\u001b[0m\u001b[0mhandle\u001b[0m \u001b[1;32mand\u001b[0m \u001b[0mfeed_dict_tensor\u001b[0m\u001b[1;33m)\u001b[0m\u001b[1;33m:\u001b[0m\u001b[1;33m\u001b[0m\u001b[0m\n\u001b[0;32m   1139\u001b[0m       results = self._do_run(handle, final_targets, final_fetches,\n\u001b[1;32m-> 1140\u001b[1;33m                              feed_dict_tensor, options, run_metadata)\n\u001b[0m\u001b[0;32m   1141\u001b[0m     \u001b[1;32melse\u001b[0m\u001b[1;33m:\u001b[0m\u001b[1;33m\u001b[0m\u001b[0m\n\u001b[0;32m   1142\u001b[0m       \u001b[0mresults\u001b[0m \u001b[1;33m=\u001b[0m \u001b[1;33m[\u001b[0m\u001b[1;33m]\u001b[0m\u001b[1;33m\u001b[0m\u001b[0m\n",
      "\u001b[1;32mD:\\appli\\python\\anaconda3\\envs\\ml\\lib\\site-packages\\tensorflow\\python\\client\\session.py\u001b[0m in \u001b[0;36m_do_run\u001b[1;34m(self, handle, target_list, fetch_list, feed_dict, options, run_metadata)\u001b[0m\n\u001b[0;32m   1319\u001b[0m     \u001b[1;32mif\u001b[0m \u001b[0mhandle\u001b[0m \u001b[1;32mis\u001b[0m \u001b[1;32mNone\u001b[0m\u001b[1;33m:\u001b[0m\u001b[1;33m\u001b[0m\u001b[0m\n\u001b[0;32m   1320\u001b[0m       return self._do_call(_run_fn, feeds, fetches, targets, options,\n\u001b[1;32m-> 1321\u001b[1;33m                            run_metadata)\n\u001b[0m\u001b[0;32m   1322\u001b[0m     \u001b[1;32melse\u001b[0m\u001b[1;33m:\u001b[0m\u001b[1;33m\u001b[0m\u001b[0m\n\u001b[0;32m   1323\u001b[0m       \u001b[1;32mreturn\u001b[0m \u001b[0mself\u001b[0m\u001b[1;33m.\u001b[0m\u001b[0m_do_call\u001b[0m\u001b[1;33m(\u001b[0m\u001b[0m_prun_fn\u001b[0m\u001b[1;33m,\u001b[0m \u001b[0mhandle\u001b[0m\u001b[1;33m,\u001b[0m \u001b[0mfeeds\u001b[0m\u001b[1;33m,\u001b[0m \u001b[0mfetches\u001b[0m\u001b[1;33m)\u001b[0m\u001b[1;33m\u001b[0m\u001b[0m\n",
      "\u001b[1;32mD:\\appli\\python\\anaconda3\\envs\\ml\\lib\\site-packages\\tensorflow\\python\\client\\session.py\u001b[0m in \u001b[0;36m_do_call\u001b[1;34m(self, fn, *args)\u001b[0m\n\u001b[0;32m   1338\u001b[0m         \u001b[1;32mexcept\u001b[0m \u001b[0mKeyError\u001b[0m\u001b[1;33m:\u001b[0m\u001b[1;33m\u001b[0m\u001b[0m\n\u001b[0;32m   1339\u001b[0m           \u001b[1;32mpass\u001b[0m\u001b[1;33m\u001b[0m\u001b[0m\n\u001b[1;32m-> 1340\u001b[1;33m       \u001b[1;32mraise\u001b[0m \u001b[0mtype\u001b[0m\u001b[1;33m(\u001b[0m\u001b[0me\u001b[0m\u001b[1;33m)\u001b[0m\u001b[1;33m(\u001b[0m\u001b[0mnode_def\u001b[0m\u001b[1;33m,\u001b[0m \u001b[0mop\u001b[0m\u001b[1;33m,\u001b[0m \u001b[0mmessage\u001b[0m\u001b[1;33m)\u001b[0m\u001b[1;33m\u001b[0m\u001b[0m\n\u001b[0m\u001b[0;32m   1341\u001b[0m \u001b[1;33m\u001b[0m\u001b[0m\n\u001b[0;32m   1342\u001b[0m   \u001b[1;32mdef\u001b[0m \u001b[0m_extend_graph\u001b[0m\u001b[1;33m(\u001b[0m\u001b[0mself\u001b[0m\u001b[1;33m)\u001b[0m\u001b[1;33m:\u001b[0m\u001b[1;33m\u001b[0m\u001b[0m\n",
      "\u001b[1;31mFailedPreconditionError\u001b[0m: Attempting to use uninitialized value W1\n\t [[Node: W1/read = Identity[T=DT_FLOAT, _class=[\"loc:@W1\"], _device=\"/job:localhost/replica:0/task:0/device:CPU:0\"](W1)]]\n\nCaused by op 'W1/read', defined at:\n  File \"D:\\appli\\python\\anaconda3\\envs\\ml\\lib\\runpy.py\", line 193, in _run_module_as_main\n    \"__main__\", mod_spec)\n  File \"D:\\appli\\python\\anaconda3\\envs\\ml\\lib\\runpy.py\", line 85, in _run_code\n    exec(code, run_globals)\n  File \"D:\\appli\\python\\anaconda3\\envs\\ml\\lib\\site-packages\\ipykernel_launcher.py\", line 16, in <module>\n    app.launch_new_instance()\n  File \"D:\\appli\\python\\anaconda3\\envs\\ml\\lib\\site-packages\\traitlets\\config\\application.py\", line 658, in launch_instance\n    app.start()\n  File \"D:\\appli\\python\\anaconda3\\envs\\ml\\lib\\site-packages\\ipykernel\\kernelapp.py\", line 486, in start\n    self.io_loop.start()\n  File \"D:\\appli\\python\\anaconda3\\envs\\ml\\lib\\site-packages\\tornado\\platform\\asyncio.py\", line 127, in start\n    self.asyncio_loop.run_forever()\n  File \"D:\\appli\\python\\anaconda3\\envs\\ml\\lib\\asyncio\\base_events.py\", line 422, in run_forever\n    self._run_once()\n  File \"D:\\appli\\python\\anaconda3\\envs\\ml\\lib\\asyncio\\base_events.py\", line 1432, in _run_once\n    handle._run()\n  File \"D:\\appli\\python\\anaconda3\\envs\\ml\\lib\\asyncio\\events.py\", line 145, in _run\n    self._callback(*self._args)\n  File \"D:\\appli\\python\\anaconda3\\envs\\ml\\lib\\site-packages\\tornado\\ioloop.py\", line 759, in _run_callback\n    ret = callback()\n  File \"D:\\appli\\python\\anaconda3\\envs\\ml\\lib\\site-packages\\tornado\\stack_context.py\", line 276, in null_wrapper\n    return fn(*args, **kwargs)\n  File \"D:\\appli\\python\\anaconda3\\envs\\ml\\lib\\site-packages\\zmq\\eventloop\\zmqstream.py\", line 536, in <lambda>\n    self.io_loop.add_callback(lambda : self._handle_events(self.socket, 0))\n  File \"D:\\appli\\python\\anaconda3\\envs\\ml\\lib\\site-packages\\zmq\\eventloop\\zmqstream.py\", line 450, in _handle_events\n    self._handle_recv()\n  File \"D:\\appli\\python\\anaconda3\\envs\\ml\\lib\\site-packages\\zmq\\eventloop\\zmqstream.py\", line 480, in _handle_recv\n    self._run_callback(callback, msg)\n  File \"D:\\appli\\python\\anaconda3\\envs\\ml\\lib\\site-packages\\zmq\\eventloop\\zmqstream.py\", line 432, in _run_callback\n    callback(*args, **kwargs)\n  File \"D:\\appli\\python\\anaconda3\\envs\\ml\\lib\\site-packages\\tornado\\stack_context.py\", line 276, in null_wrapper\n    return fn(*args, **kwargs)\n  File \"D:\\appli\\python\\anaconda3\\envs\\ml\\lib\\site-packages\\ipykernel\\kernelbase.py\", line 283, in dispatcher\n    return self.dispatch_shell(stream, msg)\n  File \"D:\\appli\\python\\anaconda3\\envs\\ml\\lib\\site-packages\\ipykernel\\kernelbase.py\", line 233, in dispatch_shell\n    handler(stream, idents, msg)\n  File \"D:\\appli\\python\\anaconda3\\envs\\ml\\lib\\site-packages\\ipykernel\\kernelbase.py\", line 399, in execute_request\n    user_expressions, allow_stdin)\n  File \"D:\\appli\\python\\anaconda3\\envs\\ml\\lib\\site-packages\\ipykernel\\ipkernel.py\", line 208, in do_execute\n    res = shell.run_cell(code, store_history=store_history, silent=silent)\n  File \"D:\\appli\\python\\anaconda3\\envs\\ml\\lib\\site-packages\\ipykernel\\zmqshell.py\", line 537, in run_cell\n    return super(ZMQInteractiveShell, self).run_cell(*args, **kwargs)\n  File \"D:\\appli\\python\\anaconda3\\envs\\ml\\lib\\site-packages\\IPython\\core\\interactiveshell.py\", line 2662, in run_cell\n    raw_cell, store_history, silent, shell_futures)\n  File \"D:\\appli\\python\\anaconda3\\envs\\ml\\lib\\site-packages\\IPython\\core\\interactiveshell.py\", line 2785, in _run_cell\n    interactivity=interactivity, compiler=compiler, result=result)\n  File \"D:\\appli\\python\\anaconda3\\envs\\ml\\lib\\site-packages\\IPython\\core\\interactiveshell.py\", line 2903, in run_ast_nodes\n    if self.run_code(code, result):\n  File \"D:\\appli\\python\\anaconda3\\envs\\ml\\lib\\site-packages\\IPython\\core\\interactiveshell.py\", line 2963, in run_code\n    exec(code_obj, self.user_global_ns, self.user_ns)\n  File \"<ipython-input-3-34e8c30d54bb>\", line 7, in <module>\n    parameters_tf = chats_tf.initialize_parameters( nbUnits=nbUnits, n_x=n_x )\n  File \"C:\\Users\\frup82455\\git\\ml\\chats\\chats\\chats_tf.py\", line 76, in initialize_parameters\n    W_cur = tf.get_variable( \"W\" + str( i + 1 ), [ nbUnits0[ i + 1 ], nbUnits0[ i ] ], initializer = tf.contrib.layers.xavier_initializer(seed = 1))\n  File \"D:\\appli\\python\\anaconda3\\envs\\ml\\lib\\site-packages\\tensorflow\\python\\ops\\variable_scope.py\", line 1297, in get_variable\n    constraint=constraint)\n  File \"D:\\appli\\python\\anaconda3\\envs\\ml\\lib\\site-packages\\tensorflow\\python\\ops\\variable_scope.py\", line 1093, in get_variable\n    constraint=constraint)\n  File \"D:\\appli\\python\\anaconda3\\envs\\ml\\lib\\site-packages\\tensorflow\\python\\ops\\variable_scope.py\", line 439, in get_variable\n    constraint=constraint)\n  File \"D:\\appli\\python\\anaconda3\\envs\\ml\\lib\\site-packages\\tensorflow\\python\\ops\\variable_scope.py\", line 408, in _true_getter\n    use_resource=use_resource, constraint=constraint)\n  File \"D:\\appli\\python\\anaconda3\\envs\\ml\\lib\\site-packages\\tensorflow\\python\\ops\\variable_scope.py\", line 800, in _get_single_variable\n    use_resource=use_resource)\n  File \"D:\\appli\\python\\anaconda3\\envs\\ml\\lib\\site-packages\\tensorflow\\python\\ops\\variable_scope.py\", line 2157, in variable\n    use_resource=use_resource)\n  File \"D:\\appli\\python\\anaconda3\\envs\\ml\\lib\\site-packages\\tensorflow\\python\\ops\\variable_scope.py\", line 2147, in <lambda>\n    previous_getter = lambda **kwargs: default_variable_creator(None, **kwargs)\n  File \"D:\\appli\\python\\anaconda3\\envs\\ml\\lib\\site-packages\\tensorflow\\python\\ops\\variable_scope.py\", line 2130, in default_variable_creator\n    constraint=constraint)\n  File \"D:\\appli\\python\\anaconda3\\envs\\ml\\lib\\site-packages\\tensorflow\\python\\ops\\variables.py\", line 235, in __init__\n    constraint=constraint)\n  File \"D:\\appli\\python\\anaconda3\\envs\\ml\\lib\\site-packages\\tensorflow\\python\\ops\\variables.py\", line 391, in _init_from_args\n    self._snapshot = array_ops.identity(self._variable, name=\"read\")\n  File \"D:\\appli\\python\\anaconda3\\envs\\ml\\lib\\site-packages\\tensorflow\\python\\ops\\array_ops.py\", line 142, in identity\n    return gen_array_ops.identity(input, name=name)\n  File \"D:\\appli\\python\\anaconda3\\envs\\ml\\lib\\site-packages\\tensorflow\\python\\ops\\gen_array_ops.py\", line 3052, in identity\n    \"Identity\", input=input, name=name)\n  File \"D:\\appli\\python\\anaconda3\\envs\\ml\\lib\\site-packages\\tensorflow\\python\\framework\\op_def_library.py\", line 787, in _apply_op_helper\n    op_def=op_def)\n  File \"D:\\appli\\python\\anaconda3\\envs\\ml\\lib\\site-packages\\tensorflow\\python\\framework\\ops.py\", line 3290, in create_op\n    op_def=op_def)\n  File \"D:\\appli\\python\\anaconda3\\envs\\ml\\lib\\site-packages\\tensorflow\\python\\framework\\ops.py\", line 1654, in __init__\n    self._traceback = self._graph._extract_stack()  # pylint: disable=protected-access\n\nFailedPreconditionError (see above for traceback): Attempting to use uninitialized value W1\n\t [[Node: W1/read = Identity[T=DT_FLOAT, _class=[\"loc:@W1\"], _device=\"/job:localhost/replica:0/task:0/device:CPU:0\"](W1)]]\n"
     ]
    }
   ],
   "source": [
    "# forward-propagation function\n",
    "Z_tf = chats_tf.forward_propagation( X_pl, parameters=parameters_tf, nbUnits=nbUnits, n_x=n_x, KEEP_PROB = KEEP_PROB_pl )\n",
    "# Cost\n",
    "cost_tf = chats_tf.compute_cost( Z_tf, Y_pl, WEIGHT=1, beta=0, parameters=parameters_tf, nbUnits=nbUnits, n_x=n_x )\n",
    "print( \"Cost tensor:\", cost_tf )\n",
    "\n",
    "## Calculate cost\n",
    "init = tf.global_variables_initializer()\n",
    "\n",
    "# Start the session to compute the tensorflow graph\n",
    "with tf.Session() as sess:\n",
    "    _ , cost = sess.run( [cost_tf], feed_dict={ X_pl: X, Y_pl: Y.T, KEEP_PROB_pl: 1 } )\n",
    "                    \n",
    "print( \"Cost:\", cost )\n"
   ]
  },
  {
   "cell_type": "code",
   "execution_count": null,
   "metadata": {},
   "outputs": [],
   "source": []
  },
  {
   "cell_type": "code",
   "execution_count": null,
   "metadata": {},
   "outputs": [],
   "source": []
  }
 ],
 "metadata": {
  "kernelspec": {
   "display_name": "Python 3",
   "language": "python",
   "name": "python3"
  },
  "language_info": {
   "codemirror_mode": {
    "name": "ipython",
    "version": 3
   },
   "file_extension": ".py",
   "mimetype": "text/x-python",
   "name": "python",
   "nbconvert_exporter": "python",
   "pygments_lexer": "ipython3",
   "version": "3.6.5"
  }
 },
 "nbformat": 4,
 "nbformat_minor": 2
}
