{
 "cells": [
  {
   "cell_type": "markdown",
   "metadata": {},
   "source": [
    "Teste la reconnaissance de chats"
   ]
  },
  {
   "cell_type": "markdown",
   "metadata": {},
   "source": [
    "Import needed modules\n"
   ]
  },
  {
   "cell_type": "code",
   "execution_count": 7,
   "metadata": {},
   "outputs": [],
   "source": [
    "import numpy as np\n",
    "\n",
    "import chats_logreg\n",
    "import chats_tf\n",
    "import tensorflow as tf\n"
   ]
  },
  {
   "cell_type": "markdown",
   "metadata": {},
   "source": [
    "Test de la propagation-avant pour la regression logistique:\n",
    "\n",
    "1) Test de la regression logistique \"à la main\""
   ]
  },
  {
   "cell_type": "code",
   "execution_count": 2,
   "metadata": {},
   "outputs": [
    {
     "name": "stdout",
     "output_type": "stream",
     "text": [
      "A: [[0.5 0.5]]\n",
      "A: [0.88079708 0.549834  ]\n",
      "Cost: 2.1876003405650217\n"
     ]
    }
   ],
   "source": [
    "# Initialise paramters dictionary W\n",
    "parameters = chats_logreg.initialize_parameters( n_x=3 )\n",
    "\n",
    "# Test with small input matrix\n",
    "X = np.array( [ \n",
    "                 [ 0.1, 0.01 ],\n",
    "                 [ 0.2, 0.02 ],\n",
    "                 [ 0.3, 0.03 ],\n",
    "            ], dtype=np.float32 )\n",
    "\n",
    "## number of samples (columns)\n",
    "m = X.shape[ 1 ]\n",
    "## number of lines\n",
    "n_x = X.shape[ 0 ]\n",
    "\n",
    "## First test with W=0\n",
    "A = chats_logreg.forward_propagation( X, parameters )\n",
    "print( \"A:\", A )\n",
    "\n",
    "## Some values to W\n",
    "parameters[ \"W\" ] = np.array( [ 2, 3, 4 ] )\n",
    "A = chats_logreg.forward_propagation( X, parameters )\n",
    "print( \"A:\", A )\n",
    "\n",
    "# Get cost\n",
    "Y = np.array( [ \n",
    "                 [ 1 ],\n",
    "                 [ 0 ],\n",
    "                 [ 1 ],\n",
    "            ], dtype=np.float32 )\n",
    "\n",
    "cost = chats_logreg.compute_cost( A, Y, WEIGHT=1, m = m )\n",
    "print( \"Cost:\", cost )"
   ]
  },
  {
   "cell_type": "markdown",
   "metadata": {},
   "source": [
    "Expected:\n",
    "<code>\n",
    "A: [[0.5 0.5]]\n",
    "A: [0.88079708 0.549834  ]\n",
    "Cost: 2.1876003405650217\n",
    "</code>"
   ]
  },
  {
   "cell_type": "markdown",
   "metadata": {},
   "source": [
    "2) Test de la régression logistrique TensorFlow"
   ]
  },
  {
   "cell_type": "code",
   "execution_count": 3,
   "metadata": {},
   "outputs": [
    {
     "name": "stdout",
     "output_type": "stream",
     "text": [
      "WARNING:tensorflow:From D:\\appli\\python\\anaconda3\\envs\\ml\\lib\\site-packages\\tensorflow\\contrib\\learn\\python\\learn\\datasets\\base.py:198: retry (from tensorflow.contrib.learn.python.learn.datasets.base) is deprecated and will be removed in a future version.\n",
      "Instructions for updating:\n",
      "Use the retry module or similar alternatives.\n"
     ]
    }
   ],
   "source": [
    "# Create TF variables place holders - do it once\n",
    "\n",
    "nbUnits = [ 1 ]\n",
    "\n",
    "X_pl, Y_pl, KEEP_PROB_pl = chats_tf.create_placeholders( n_x=n_x, n_y=1 )\n",
    "# Initialise parameters\n",
    "parameters_tf = chats_tf.initialize_parameters( nbUnits=nbUnits, n_x=n_x )\n"
   ]
  },
  {
   "cell_type": "code",
   "execution_count": 12,
   "metadata": {},
   "outputs": [
    {
     "name": "stdout",
     "output_type": "stream",
     "text": [
      "Cost tensor: Tensor(\"Mean_13:0\", shape=(), dtype=float32)\n"
     ]
    },
    {
     "ename": "TypeError",
     "evalue": "unhashable type: 'numpy.ndarray'",
     "output_type": "error",
     "traceback": [
      "\u001b[1;31m---------------------------------------------------------------------------\u001b[0m",
      "\u001b[1;31mTypeError\u001b[0m                                 Traceback (most recent call last)",
      "\u001b[1;32m<ipython-input-12-2a1a9436d961>\u001b[0m in \u001b[0;36m<module>\u001b[1;34m()\u001b[0m\n\u001b[0;32m     10\u001b[0m \u001b[1;31m# Start the session to compute the tensorflow graph\u001b[0m\u001b[1;33m\u001b[0m\u001b[1;33m\u001b[0m\u001b[0m\n\u001b[0;32m     11\u001b[0m \u001b[1;32mwith\u001b[0m \u001b[0mtf\u001b[0m\u001b[1;33m.\u001b[0m\u001b[0mSession\u001b[0m\u001b[1;33m(\u001b[0m\u001b[1;33m)\u001b[0m \u001b[1;32mas\u001b[0m \u001b[0msess\u001b[0m\u001b[1;33m:\u001b[0m\u001b[1;33m\u001b[0m\u001b[0m\n\u001b[1;32m---> 12\u001b[1;33m     \u001b[0m_\u001b[0m \u001b[1;33m,\u001b[0m \u001b[0mcost\u001b[0m \u001b[1;33m=\u001b[0m \u001b[0msess\u001b[0m\u001b[1;33m.\u001b[0m\u001b[0mrun\u001b[0m\u001b[1;33m(\u001b[0m \u001b[1;33m[\u001b[0m\u001b[0mcost_tf\u001b[0m\u001b[1;33m]\u001b[0m\u001b[1;33m,\u001b[0m \u001b[0mfeed_dict\u001b[0m\u001b[1;33m=\u001b[0m\u001b[1;33m{\u001b[0m \u001b[0mX_pl\u001b[0m\u001b[1;33m:\u001b[0m \u001b[0mX_pl\u001b[0m\u001b[1;33m,\u001b[0m \u001b[0mY\u001b[0m\u001b[1;33m:\u001b[0m \u001b[0mY\u001b[0m\u001b[1;33m,\u001b[0m \u001b[0mKEEP_PROB_pl\u001b[0m\u001b[1;33m:\u001b[0m \u001b[1;36m1\u001b[0m \u001b[1;33m}\u001b[0m \u001b[1;33m)\u001b[0m\u001b[1;33m\u001b[0m\u001b[0m\n\u001b[0m\u001b[0;32m     13\u001b[0m \u001b[1;33m\u001b[0m\u001b[0m\n\u001b[0;32m     14\u001b[0m \u001b[0mprint\u001b[0m\u001b[1;33m(\u001b[0m \u001b[1;34m\"Cost:\"\u001b[0m\u001b[1;33m,\u001b[0m \u001b[0mcost\u001b[0m \u001b[1;33m)\u001b[0m\u001b[1;33m\u001b[0m\u001b[0m\n",
      "\u001b[1;31mTypeError\u001b[0m: unhashable type: 'numpy.ndarray'"
     ]
    }
   ],
   "source": [
    "# forward-propagation function\n",
    "Z_tf = chats_tf.forward_propagation( X_pl, parameters=parameters_tf, nbUnits=nbUnits, n_x=n_x, KEEP_PROB = KEEP_PROB_pl )\n",
    "# Cost\n",
    "cost_tf = chats_tf.compute_cost( Z_tf, Y_pl, WEIGHT=1, beta=0, parameters=parameters_tf, nbUnits=nbUnits, n_x=n_x )\n",
    "print( \"Cost tensor:\", cost_tf )\n",
    "\n",
    "## Calcultate cost\n",
    "init = tf.global_variables_initializer()\n",
    "\n",
    "# Start the session to compute the tensorflow graph\n",
    "with tf.Session() as sess:\n",
    "    _ , cost = sess.run( [cost_tf], feed_dict={ X_pl: X_pl, Y: Y, KEEP_PROB_pl: 1 } )\n",
    "                    \n",
    "print( \"Cost:\", cost )\n"
   ]
  },
  {
   "cell_type": "code",
   "execution_count": null,
   "metadata": {},
   "outputs": [],
   "source": []
  },
  {
   "cell_type": "code",
   "execution_count": null,
   "metadata": {},
   "outputs": [],
   "source": []
  }
 ],
 "metadata": {
  "kernelspec": {
   "display_name": "Python 3",
   "language": "python",
   "name": "python3"
  },
  "language_info": {
   "codemirror_mode": {
    "name": "ipython",
    "version": 3
   },
   "file_extension": ".py",
   "mimetype": "text/x-python",
   "name": "python",
   "nbconvert_exporter": "python",
   "pygments_lexer": "ipython3",
   "version": "3.6.5"
  }
 },
 "nbformat": 4,
 "nbformat_minor": 2
}
